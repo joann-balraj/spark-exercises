{
 "cells": [
  {
   "cell_type": "markdown",
   "id": "0572edc6",
   "metadata": {},
   "source": [
    "# Wrangle Exercises\n",
    "___\n",
    "### Data Acquisition\n",
    "\n",
    "These exercises should go in a notebook or script named wrangle. Add, commit, and push your changes.\n",
    "\n",
    "This exercises uses the `case.csv`, `dept.csv`, and `source.csv` files from the san antonio 311 call dataset.\n",
    "\n",
    "#### 1. Read the case, department, and source data into their own spark dataframes.\n",
    "\n",
    "#### 2. Let's see how writing to the local disk works in spark:\n",
    "   - Write the code necessary to store the source data in both csv and json format, store these as `sources_csv` and `sources_json`\n",
    "   - Inspect your folder structure. What do you notice?\n",
    "   \n",
    "#### 3. Inspect the data in your dataframes. Are the data types appropriate? Write the code necessary to cast the values to the appropriate types."
   ]
  },
  {
   "cell_type": "code",
   "execution_count": 1,
   "id": "4c093f11",
   "metadata": {},
   "outputs": [],
   "source": [
    "from pyspark.sql import SparkSession\n",
    "from pyspark.sql.functions import *\n",
    "\n",
    "spark = SparkSession.builder.getOrCreate()"
   ]
  },
  {
   "cell_type": "markdown",
   "id": "040a346d",
   "metadata": {},
   "source": [
    "Read the case, department, and source data into their own spark dataframes."
   ]
  },
  {
   "cell_type": "code",
   "execution_count": 2,
   "id": "81e0efbc",
   "metadata": {},
   "outputs": [],
   "source": [
    "case = spark.read.csv(\"case.csv\", sep=\",\", header=True, inferSchema=True)\n",
    "dept = spark.read.csv(\"dept.csv\", sep=\",\", header=True, inferSchema=True)\n",
    "source = spark.read.csv(\"source.csv\", sep=\",\", header=True, inferSchema=True)"
   ]
  },
  {
   "cell_type": "markdown",
   "id": "66c1b44d",
   "metadata": {},
   "source": [
    "Write the code necessary to store the source data in both `csv` and `json` format, store these as `sources_csv` and `sources_json`"
   ]
  },
  {
   "cell_type": "code",
   "execution_count": 3,
   "id": "b7022a4e",
   "metadata": {},
   "outputs": [],
   "source": [
    "source.write.json(\"data/source_json\", mode=\"overwrite\")\n",
    "source.write.csv(\"data/source_csv\", mode=\"overwrite\")"
   ]
  },
  {
   "cell_type": "markdown",
   "id": "4b9505b3",
   "metadata": {},
   "source": [
    "Inspect your folder structure. What do you notice?\n",
    "- It generated a directory (`data`) with the 2 formats (`csv` & `json`) in 2 seperate folders."
   ]
  },
  {
   "cell_type": "markdown",
   "id": "bce8d4f3",
   "metadata": {},
   "source": [
    "Inspect the data in your dataframes. Are the data types appropriate? Write the code necessary to cast the values to the appropriate types."
   ]
  },
  {
   "cell_type": "code",
   "execution_count": 4,
   "id": "4bccec9d",
   "metadata": {},
   "outputs": [
    {
     "data": {
      "text/plain": [
       "[('case_id', 'int'),\n",
       " ('case_opened_date', 'string'),\n",
       " ('case_closed_date', 'string'),\n",
       " ('SLA_due_date', 'string'),\n",
       " ('case_late', 'string'),\n",
       " ('num_days_late', 'double'),\n",
       " ('case_closed', 'string'),\n",
       " ('dept_division', 'string'),\n",
       " ('service_request_type', 'string'),\n",
       " ('SLA_days', 'double'),\n",
       " ('case_status', 'string'),\n",
       " ('source_id', 'string'),\n",
       " ('request_address', 'string'),\n",
       " ('council_district', 'int')]"
      ]
     },
     "execution_count": 4,
     "metadata": {},
     "output_type": "execute_result"
    }
   ],
   "source": [
    "case.dtypes"
   ]
  },
  {
   "cell_type": "markdown",
   "id": "af2fc81b",
   "metadata": {},
   "source": [
    "I am going to be using the sollutions from the wrangle lesson to correct the dtypes (Also in Codeup DS Curriculum)."
   ]
  },
  {
   "cell_type": "code",
   "execution_count": 5,
   "id": "ab0d072c",
   "metadata": {},
   "outputs": [],
   "source": [
    "# use .withColumn to change columns from string to boolean values\n",
    "case = case.withColumn(\"case_closed\", expr('case_closed == \"YES\"')).withColumn(\n",
    "    \"case_late\", expr('case_late == \"YES\"')\n",
    ")"
   ]
  },
  {
   "cell_type": "code",
   "execution_count": 6,
   "id": "fdd512bf",
   "metadata": {},
   "outputs": [],
   "source": [
    "# council_district as a string instead of int\n",
    "\n",
    "case = case.withColumn(\"council_district\", col(\"council_district\").cast(\"string\"))"
   ]
  },
  {
   "cell_type": "code",
   "execution_count": 7,
   "id": "9f394d23",
   "metadata": {},
   "outputs": [],
   "source": [
    "# to_timestamp, fmt\n",
    "\n",
    "fmt = \"M/d/yy H:mm\"\n",
    "\n",
    "case = case.withColumnRenamed('SLA_due_date', 'case_due_date')\n",
    "\n",
    "case = case.withColumn('case_opened_date', to_timestamp('case_opened_date', fmt))\\\n",
    ".withColumn('case_closed_date', to_timestamp('case_opened_date', fmt))\\\n",
    ".withColumn('case_due_date', to_timestamp('case_due_date', fmt))"
   ]
  },
  {
   "cell_type": "code",
   "execution_count": 8,
   "id": "ba844f00",
   "metadata": {},
   "outputs": [
    {
     "data": {
      "text/plain": [
       "[('case_id', 'int'),\n",
       " ('case_opened_date', 'timestamp'),\n",
       " ('case_closed_date', 'timestamp'),\n",
       " ('case_due_date', 'timestamp'),\n",
       " ('case_late', 'boolean'),\n",
       " ('num_days_late', 'double'),\n",
       " ('case_closed', 'boolean'),\n",
       " ('dept_division', 'string'),\n",
       " ('service_request_type', 'string'),\n",
       " ('SLA_days', 'double'),\n",
       " ('case_status', 'string'),\n",
       " ('source_id', 'string'),\n",
       " ('request_address', 'string'),\n",
       " ('council_district', 'string')]"
      ]
     },
     "execution_count": 8,
     "metadata": {},
     "output_type": "execute_result"
    }
   ],
   "source": [
    "case.dtypes"
   ]
  },
  {
   "cell_type": "markdown",
   "id": "f0e14c66",
   "metadata": {},
   "source": [
    "`case` is looks good in terms of dtypes now."
   ]
  },
  {
   "cell_type": "code",
   "execution_count": 9,
   "id": "b174e222",
   "metadata": {},
   "outputs": [
    {
     "data": {
      "text/plain": [
       "[('dept_division', 'string'),\n",
       " ('dept_name', 'string'),\n",
       " ('standardized_dept_name', 'string'),\n",
       " ('dept_subject_to_SLA', 'string')]"
      ]
     },
     "execution_count": 9,
     "metadata": {},
     "output_type": "execute_result"
    }
   ],
   "source": [
    "dept.dtypes"
   ]
  },
  {
   "cell_type": "code",
   "execution_count": 10,
   "id": "9a642fb3",
   "metadata": {},
   "outputs": [
    {
     "name": "stdout",
     "output_type": "stream",
     "text": [
      "+---------------+----------------+----------------------+-------------------+\n",
      "|  dept_division|       dept_name|standardized_dept_name|dept_subject_to_SLA|\n",
      "+---------------+----------------+----------------------+-------------------+\n",
      "|311 Call Center|Customer Service|      Customer Service|               true|\n",
      "+---------------+----------------+----------------------+-------------------+\n",
      "only showing top 1 row\n",
      "\n"
     ]
    }
   ],
   "source": [
    "# use .withColumn to change columns from string to boolean values\n",
    "dept = dept.withColumn(\"dept_subject_to_SLA\", expr('dept_subject_to_SLA == \"YES\"'))\n",
    "dept.show(1)"
   ]
  },
  {
   "cell_type": "code",
   "execution_count": 11,
   "id": "398e8020",
   "metadata": {},
   "outputs": [
    {
     "data": {
      "text/plain": [
       "[('dept_division', 'string'),\n",
       " ('dept_name', 'string'),\n",
       " ('standardized_dept_name', 'string'),\n",
       " ('dept_subject_to_SLA', 'boolean')]"
      ]
     },
     "execution_count": 11,
     "metadata": {},
     "output_type": "execute_result"
    }
   ],
   "source": [
    "dept.dtypes"
   ]
  },
  {
   "cell_type": "markdown",
   "id": "a34bb13d",
   "metadata": {},
   "source": [
    "`dept` dtypes look good now."
   ]
  },
  {
   "cell_type": "code",
   "execution_count": 12,
   "id": "8d00c28c",
   "metadata": {},
   "outputs": [
    {
     "data": {
      "text/plain": [
       "[('source_id', 'string'), ('source_username', 'string')]"
      ]
     },
     "execution_count": 12,
     "metadata": {},
     "output_type": "execute_result"
    }
   ],
   "source": [
    "source.dtypes"
   ]
  },
  {
   "cell_type": "markdown",
   "id": "7b8523dc",
   "metadata": {},
   "source": [
    "I am leaving `source` as it is, because half of the id's contain letters.\n",
    "___"
   ]
  },
  {
   "cell_type": "markdown",
   "id": "9f1c80db",
   "metadata": {},
   "source": [
    "#### 1. How old is the latest (in terms of days past SLA) currently open issue? How long has the oldest (in terms of days since opened) currently opened issue been open?\n",
    "- **A:** 1,854 Days"
   ]
  },
  {
   "cell_type": "code",
   "execution_count": 13,
   "id": "f99919dd",
   "metadata": {},
   "outputs": [
    {
     "name": "stdout",
     "output_type": "stream",
     "text": [
      "+-------------+\n",
      "|days_past_due|\n",
      "+-------------+\n",
      "|         1854|\n",
      "|         1854|\n",
      "|         1854|\n",
      "|         1853|\n",
      "|         1851|\n",
      "+-------------+\n",
      "only showing top 5 rows\n",
      "\n"
     ]
    }
   ],
   "source": [
    "(\n",
    "   case.select(datediff(current_timestamp(), 'case_due_date')\n",
    "    .alias('days_past_due'))\n",
    "    .where(case.case_closed == False)\n",
    "    .sort(col('days_past_due').desc())\n",
    "    .show(5)\n",
    "    \n",
    ")"
   ]
  },
  {
   "cell_type": "markdown",
   "id": "29b294d8",
   "metadata": {},
   "source": [
    "#### 2. How many Stray Animal cases are there?\n",
    "- **A:** 26,760 Stray Animal Cases"
   ]
  },
  {
   "cell_type": "code",
   "execution_count": 14,
   "id": "e76b2995",
   "metadata": {},
   "outputs": [
    {
     "data": {
      "text/plain": [
       "26760"
      ]
     },
     "execution_count": 14,
     "metadata": {},
     "output_type": "execute_result"
    }
   ],
   "source": [
    "case.filter(case.service_request_type == 'Stray Animal').count()"
   ]
  },
  {
   "cell_type": "markdown",
   "id": "95504da0",
   "metadata": {},
   "source": [
    "#### 3. How many service requests that are assigned to the Field Operations department (`dept_division`) are not classified as \n",
    "#### \"Officer Standby\" request type (`service_request_type`)?\n",
    "- **A:** 113,902 Service Requests"
   ]
  },
  {
   "cell_type": "code",
   "execution_count": 15,
   "id": "08308d4c",
   "metadata": {},
   "outputs": [
    {
     "data": {
      "text/plain": [
       "113902"
      ]
     },
     "execution_count": 15,
     "metadata": {},
     "output_type": "execute_result"
    }
   ],
   "source": [
    "(\n",
    "    case.filter(case.dept_division == 'Field Operations')\n",
    "    .filter(case.service_request_type != 'Officer Standby')\n",
    "    .count()\n",
    ")"
   ]
  },
  {
   "cell_type": "markdown",
   "id": "a8529fac",
   "metadata": {},
   "source": [
    "#### 4. Convert the `council_district` column to a string column.\n",
    "Was already done above, but here is the code:"
   ]
  },
  {
   "cell_type": "code",
   "execution_count": 16,
   "id": "6e743f57",
   "metadata": {},
   "outputs": [],
   "source": [
    "case = case.withColumn(\"council_district\", col(\"council_district\").cast(\"string\"))"
   ]
  },
  {
   "cell_type": "markdown",
   "id": "9e304951",
   "metadata": {},
   "source": [
    "#### 5. Extract the year from the `case_closed_date column`."
   ]
  },
  {
   "cell_type": "code",
   "execution_count": 17,
   "id": "29df6540",
   "metadata": {},
   "outputs": [
    {
     "name": "stdout",
     "output_type": "stream",
     "text": [
      "+-------------------+----------------------+\n",
      "|   case_closed_date|year(case_closed_date)|\n",
      "+-------------------+----------------------+\n",
      "|2018-01-01 00:42:00|                  2018|\n",
      "|2018-01-01 00:46:00|                  2018|\n",
      "|2018-01-01 00:48:00|                  2018|\n",
      "|2018-01-01 01:29:00|                  2018|\n",
      "|2018-01-01 01:34:00|                  2018|\n",
      "+-------------------+----------------------+\n",
      "only showing top 5 rows\n",
      "\n"
     ]
    }
   ],
   "source": [
    "case.select('case_closed_date', year('case_closed_date')).show(5)"
   ]
  },
  {
   "cell_type": "markdown",
   "id": "9983f126",
   "metadata": {},
   "source": [
    "#### 6. Convert `num_days_late` from days to hours in new columns `num_hours_late`."
   ]
  },
  {
   "cell_type": "code",
   "execution_count": 18,
   "id": "84dc562f",
   "metadata": {},
   "outputs": [
    {
     "name": "stdout",
     "output_type": "stream",
     "text": [
      "+-------------------+-------------------+\n",
      "|      num_days_late|     num_hours_late|\n",
      "+-------------------+-------------------+\n",
      "| -998.5087616000001|     -23964.2102784|\n",
      "|-2.0126041669999997|-48.302500007999996|\n",
      "|       -3.022337963|      -72.536111112|\n",
      "|       -15.01148148|      -360.27555552|\n",
      "|0.37216435200000003|  8.931944448000001|\n",
      "|       -29.74398148| -713.8555555199999|\n",
      "|       -14.70673611|      -352.96166664|\n",
      "|       -14.70662037|      -352.95888888|\n",
      "|       -14.70662037|      -352.95888888|\n",
      "|       -14.70649306|      -352.95583344|\n",
      "+-------------------+-------------------+\n",
      "only showing top 10 rows\n",
      "\n"
     ]
    }
   ],
   "source": [
    "(\n",
    "    case.withColumn('num_hours_late', case.num_days_late * 24)\n",
    "    .select('num_days_late', 'num_hours_late')\n",
    "    .show(10)\n",
    ")"
   ]
  },
  {
   "cell_type": "markdown",
   "id": "bd09c3a0",
   "metadata": {},
   "source": [
    "#### 7. Join the case data with the source and department data."
   ]
  },
  {
   "cell_type": "code",
   "execution_count": 19,
   "id": "c3fe4d11",
   "metadata": {},
   "outputs": [
    {
     "name": "stdout",
     "output_type": "stream",
     "text": [
      "-RECORD 0------------------------------------------------------\n",
      " source_id              | svcCRMLS                             \n",
      " dept_division          | Field Operations                     \n",
      " case_id                | 1014127332                           \n",
      " case_opened_date       | 2018-01-01 00:42:00                  \n",
      " case_closed_date       | 2018-01-01 00:42:00                  \n",
      " case_due_date          | 2020-09-26 00:42:00                  \n",
      " case_late              | false                                \n",
      " num_days_late          | -998.5087616000001                   \n",
      " case_closed            | true                                 \n",
      " service_request_type   | Stray Animal                         \n",
      " SLA_days               | 999.0                                \n",
      " case_status            | Closed                               \n",
      " request_address        | 2315  EL PASO ST, San Antonio, 78207 \n",
      " council_district       | 5                                    \n",
      " dept_name              | Animal Care Services                 \n",
      " standardized_dept_name | Animal Care Services                 \n",
      " dept_subject_to_SLA    | true                                 \n",
      " source_username        | svcCRMLS                             \n",
      "only showing top 1 row\n",
      "\n"
     ]
    }
   ],
   "source": [
    "all_dfs = case.join(dept, 'dept_division', 'left').join(source, 'source_id', 'left')\n",
    "all_dfs.show(1, vertical=True, truncate=False)"
   ]
  },
  {
   "cell_type": "markdown",
   "id": "69a56cdb",
   "metadata": {},
   "source": [
    "#### 8. Are there any cases that do not have a request source?"
   ]
  },
  {
   "cell_type": "code",
   "execution_count": 20,
   "id": "1c705b36",
   "metadata": {},
   "outputs": [
    {
     "data": {
      "text/plain": [
       "0"
      ]
     },
     "execution_count": 20,
     "metadata": {},
     "output_type": "execute_result"
    }
   ],
   "source": [
    "case.filter('source_id is null').count()"
   ]
  },
  {
   "cell_type": "markdown",
   "id": "bdeda862",
   "metadata": {},
   "source": [
    "#### 9. What are the top 10 service request types in terms of number of requests?"
   ]
  },
  {
   "cell_type": "code",
   "execution_count": 21,
   "id": "ce21dd06",
   "metadata": {},
   "outputs": [
    {
     "name": "stdout",
     "output_type": "stream",
     "text": [
      "+--------------------------------+-----+\n",
      "|service_request_type            |count|\n",
      "+--------------------------------+-----+\n",
      "|No Pickup                       |86855|\n",
      "|Overgrown Yard/Trash            |65895|\n",
      "|Bandit Signs                    |32910|\n",
      "|Damaged Cart                    |30338|\n",
      "|Front Or Side Yard Parking      |28794|\n",
      "|Stray Animal                    |26760|\n",
      "|Aggressive Animal(Non-Critical) |24882|\n",
      "|Cart Exchange Request           |22024|\n",
      "|Junk Vehicle On Private Property|21473|\n",
      "|Pot Hole Repair                 |20616|\n",
      "+--------------------------------+-----+\n",
      "only showing top 10 rows\n",
      "\n"
     ]
    }
   ],
   "source": [
    "(\n",
    "    case.groupby('service_request_type')\n",
    "    .count()\n",
    "    .sort(col('count').desc())\n",
    "    .show(10, truncate=False)\n",
    ")"
   ]
  },
  {
   "cell_type": "markdown",
   "id": "6114ddfc",
   "metadata": {},
   "source": [
    "#### 10. What are the top 10 service request types in terms of average days late?"
   ]
  },
  {
   "cell_type": "code",
   "execution_count": 22,
   "id": "83fbe0e1",
   "metadata": {},
   "outputs": [
    {
     "name": "stdout",
     "output_type": "stream",
     "text": [
      "+--------------------------------------+------------------+-------+\n",
      "|service_request_type                  |n_days_late       |n_cases|\n",
      "+--------------------------------------+------------------+-------+\n",
      "|Zoning: Recycle Yard                  |210.89201994318182|132    |\n",
      "|Zoning: Junk Yards                    |200.20517608494276|262    |\n",
      "|Structure/Housing Maintenance         |190.20707698509807|51     |\n",
      "|Donation Container Enforcement        |171.09115313942615|122    |\n",
      "|Storage of Used Mattress              |163.96812829714287|7      |\n",
      "|Labeling for Used Mattress            |162.43032902285717|7      |\n",
      "|Record Keeping of Used Mattresses     |153.99724039428568|7      |\n",
      "|Signage Requied for Sale of Used Mattr|151.63868055333333|12     |\n",
      "|Traffic Signal Graffiti               |137.64583330000002|2      |\n",
      "|License Requied Used Mattress Sales   |128.79828704142858|7      |\n",
      "+--------------------------------------+------------------+-------+\n",
      "only showing top 10 rows\n",
      "\n"
     ]
    }
   ],
   "source": [
    "(\n",
    "    case.where('case_late') \n",
    "    .groupBy('service_request_type')\n",
    "    .agg(mean('num_days_late').alias('n_days_late'), count('*').alias('n_cases'))\n",
    "    .sort(desc('n_days_late'))\n",
    "    .show(10, truncate=False)\n",
    ")"
   ]
  },
  {
   "cell_type": "markdown",
   "id": "26b7bfa2",
   "metadata": {},
   "source": [
    "#### 11. Does number of days late depend on department?"
   ]
  },
  {
   "cell_type": "code",
   "execution_count": 23,
   "id": "16724629",
   "metadata": {},
   "outputs": [
    {
     "name": "stdout",
     "output_type": "stream",
     "text": [
      "+-------------------+\n",
      "|      num_days_late|\n",
      "+-------------------+\n",
      "| -998.5087616000001|\n",
      "|-2.0126041669999997|\n",
      "|       -3.022337963|\n",
      "|       -15.01148148|\n",
      "|0.37216435200000003|\n",
      "+-------------------+\n",
      "only showing top 5 rows\n",
      "\n"
     ]
    }
   ],
   "source": [
    "case.select(case.num_days_late).show(5)"
   ]
  },
  {
   "cell_type": "code",
   "execution_count": 24,
   "id": "245958e4",
   "metadata": {},
   "outputs": [
    {
     "ename": "AnalysisException",
     "evalue": "cannot resolve 'dept_name' given input columns: [SLA_days, case_closed, case_closed_date, case_due_date, case_id, case_late, case_opened_date, case_status, council_district, dept_division, num_days_late, request_address, service_request_type, source_id];\n'Aggregate ['dept_name], ['dept_name, avg(num_days_late#21) AS days_late#579, count(num_days_late#21) AS n_cases_late#581L]\n+- Filter case_late#111: boolean\n   +- Project [case_id#16, case_opened_date#156, case_closed_date#171, case_due_date#186, case_late#111, num_days_late#21, case_closed#96, dept_division#23, service_request_type#24, SLA_days#25, case_status#26, source_id#27, request_address#28, cast(council_district#126 as string) AS council_district#277]\n      +- Project [case_id#16, case_opened_date#156, case_closed_date#171, to_timestamp('case_due_date, Some(M/d/yy H:mm)) AS case_due_date#186, case_late#111, num_days_late#21, case_closed#96, dept_division#23, service_request_type#24, SLA_days#25, case_status#26, source_id#27, request_address#28, council_district#126]\n         +- Project [case_id#16, case_opened_date#156, to_timestamp('case_opened_date, Some(M/d/yy H:mm)) AS case_closed_date#171, case_due_date#141, case_late#111, num_days_late#21, case_closed#96, dept_division#23, service_request_type#24, SLA_days#25, case_status#26, source_id#27, request_address#28, council_district#126]\n            +- Project [case_id#16, to_timestamp('case_opened_date, Some(M/d/yy H:mm)) AS case_opened_date#156, case_closed_date#18, case_due_date#141, case_late#111, num_days_late#21, case_closed#96, dept_division#23, service_request_type#24, SLA_days#25, case_status#26, source_id#27, request_address#28, council_district#126]\n               +- Project [case_id#16, case_opened_date#17, case_closed_date#18, SLA_due_date#19 AS case_due_date#141, case_late#111, num_days_late#21, case_closed#96, dept_division#23, service_request_type#24, SLA_days#25, case_status#26, source_id#27, request_address#28, council_district#126]\n                  +- Project [case_id#16, case_opened_date#17, case_closed_date#18, SLA_due_date#19, case_late#111, num_days_late#21, case_closed#96, dept_division#23, service_request_type#24, SLA_days#25, case_status#26, source_id#27, request_address#28, cast(council_district#29 as string) AS council_district#126]\n                     +- Project [case_id#16, case_opened_date#17, case_closed_date#18, SLA_due_date#19, (case_late#20 = YES) AS case_late#111, num_days_late#21, case_closed#96, dept_division#23, service_request_type#24, SLA_days#25, case_status#26, source_id#27, request_address#28, council_district#29]\n                        +- Project [case_id#16, case_opened_date#17, case_closed_date#18, SLA_due_date#19, case_late#20, num_days_late#21, (case_closed#22 = YES) AS case_closed#96, dept_division#23, service_request_type#24, SLA_days#25, case_status#26, source_id#27, request_address#28, council_district#29]\n                           +- Relation [case_id#16,case_opened_date#17,case_closed_date#18,SLA_due_date#19,case_late#20,num_days_late#21,case_closed#22,dept_division#23,service_request_type#24,SLA_days#25,case_status#26,source_id#27,request_address#28,council_district#29] csv\n",
     "output_type": "error",
     "traceback": [
      "\u001b[0;31m---------------------------------------------------------------------------\u001b[0m",
      "\u001b[0;31mAnalysisException\u001b[0m                         Traceback (most recent call last)",
      "\u001b[0;32m<ipython-input-24-76e119142206>\u001b[0m in \u001b[0;36m<module>\u001b[0;34m\u001b[0m\n\u001b[1;32m      1\u001b[0m (\n\u001b[0;32m----> 2\u001b[0;31m    \u001b[0mcase\u001b[0m\u001b[0;34m.\u001b[0m\u001b[0mfilter\u001b[0m\u001b[0;34m(\u001b[0m\u001b[0;34m'case_late'\u001b[0m\u001b[0;34m)\u001b[0m\u001b[0;34m\u001b[0m\u001b[0;34m\u001b[0m\u001b[0m\n\u001b[0m\u001b[1;32m      3\u001b[0m     \u001b[0;34m.\u001b[0m\u001b[0mgroupby\u001b[0m\u001b[0;34m(\u001b[0m\u001b[0;34m'dept_name'\u001b[0m\u001b[0;34m)\u001b[0m\u001b[0;34m\u001b[0m\u001b[0;34m\u001b[0m\u001b[0m\n\u001b[1;32m      4\u001b[0m     \u001b[0;34m.\u001b[0m\u001b[0magg\u001b[0m\u001b[0;34m(\u001b[0m\u001b[0mmean\u001b[0m\u001b[0;34m(\u001b[0m\u001b[0;34m'num_days_late'\u001b[0m\u001b[0;34m)\u001b[0m\u001b[0;34m.\u001b[0m\u001b[0malias\u001b[0m\u001b[0;34m(\u001b[0m\u001b[0;34m'days_late'\u001b[0m\u001b[0;34m)\u001b[0m\u001b[0;34m,\u001b[0m \u001b[0mcount\u001b[0m\u001b[0;34m(\u001b[0m\u001b[0;34m'num_days_late'\u001b[0m\u001b[0;34m)\u001b[0m\u001b[0;34m.\u001b[0m\u001b[0malias\u001b[0m\u001b[0;34m(\u001b[0m\u001b[0;34m'n_cases_late'\u001b[0m\u001b[0;34m)\u001b[0m\u001b[0;34m)\u001b[0m\u001b[0;34m\u001b[0m\u001b[0;34m\u001b[0m\u001b[0m\n\u001b[1;32m      5\u001b[0m     \u001b[0;34m.\u001b[0m\u001b[0msort\u001b[0m\u001b[0;34m(\u001b[0m\u001b[0;34m'days_late'\u001b[0m\u001b[0;34m)\u001b[0m\u001b[0;34m\u001b[0m\u001b[0;34m\u001b[0m\u001b[0m\n",
      "\u001b[0;32m/opt/homebrew/anaconda3/lib/python3.8/site-packages/pyspark/sql/group.py\u001b[0m in \u001b[0;36magg\u001b[0;34m(self, *exprs)\u001b[0m\n\u001b[1;32m    116\u001b[0m             \u001b[0;31m# Columns\u001b[0m\u001b[0;34m\u001b[0m\u001b[0;34m\u001b[0m\u001b[0;34m\u001b[0m\u001b[0m\n\u001b[1;32m    117\u001b[0m             \u001b[0;32massert\u001b[0m \u001b[0mall\u001b[0m\u001b[0;34m(\u001b[0m\u001b[0misinstance\u001b[0m\u001b[0;34m(\u001b[0m\u001b[0mc\u001b[0m\u001b[0;34m,\u001b[0m \u001b[0mColumn\u001b[0m\u001b[0;34m)\u001b[0m \u001b[0;32mfor\u001b[0m \u001b[0mc\u001b[0m \u001b[0;32min\u001b[0m \u001b[0mexprs\u001b[0m\u001b[0;34m)\u001b[0m\u001b[0;34m,\u001b[0m \u001b[0;34m\"all exprs should be Column\"\u001b[0m\u001b[0;34m\u001b[0m\u001b[0;34m\u001b[0m\u001b[0m\n\u001b[0;32m--> 118\u001b[0;31m             jdf = self._jgd.agg(exprs[0]._jc,\n\u001b[0m\u001b[1;32m    119\u001b[0m                                 _to_seq(self.sql_ctx._sc, [c._jc for c in exprs[1:]]))\n\u001b[1;32m    120\u001b[0m         \u001b[0;32mreturn\u001b[0m \u001b[0mDataFrame\u001b[0m\u001b[0;34m(\u001b[0m\u001b[0mjdf\u001b[0m\u001b[0;34m,\u001b[0m \u001b[0mself\u001b[0m\u001b[0;34m.\u001b[0m\u001b[0msql_ctx\u001b[0m\u001b[0;34m)\u001b[0m\u001b[0;34m\u001b[0m\u001b[0;34m\u001b[0m\u001b[0m\n",
      "\u001b[0;32m/opt/homebrew/anaconda3/lib/python3.8/site-packages/py4j/java_gateway.py\u001b[0m in \u001b[0;36m__call__\u001b[0;34m(self, *args)\u001b[0m\n\u001b[1;32m   1319\u001b[0m \u001b[0;34m\u001b[0m\u001b[0m\n\u001b[1;32m   1320\u001b[0m         \u001b[0manswer\u001b[0m \u001b[0;34m=\u001b[0m \u001b[0mself\u001b[0m\u001b[0;34m.\u001b[0m\u001b[0mgateway_client\u001b[0m\u001b[0;34m.\u001b[0m\u001b[0msend_command\u001b[0m\u001b[0;34m(\u001b[0m\u001b[0mcommand\u001b[0m\u001b[0;34m)\u001b[0m\u001b[0;34m\u001b[0m\u001b[0;34m\u001b[0m\u001b[0m\n\u001b[0;32m-> 1321\u001b[0;31m         return_value = get_return_value(\n\u001b[0m\u001b[1;32m   1322\u001b[0m             answer, self.gateway_client, self.target_id, self.name)\n\u001b[1;32m   1323\u001b[0m \u001b[0;34m\u001b[0m\u001b[0m\n",
      "\u001b[0;32m/opt/homebrew/anaconda3/lib/python3.8/site-packages/pyspark/sql/utils.py\u001b[0m in \u001b[0;36mdeco\u001b[0;34m(*a, **kw)\u001b[0m\n\u001b[1;32m    115\u001b[0m                 \u001b[0;31m# Hide where the exception came from that shows a non-Pythonic\u001b[0m\u001b[0;34m\u001b[0m\u001b[0;34m\u001b[0m\u001b[0;34m\u001b[0m\u001b[0m\n\u001b[1;32m    116\u001b[0m                 \u001b[0;31m# JVM exception message.\u001b[0m\u001b[0;34m\u001b[0m\u001b[0;34m\u001b[0m\u001b[0;34m\u001b[0m\u001b[0m\n\u001b[0;32m--> 117\u001b[0;31m                 \u001b[0;32mraise\u001b[0m \u001b[0mconverted\u001b[0m \u001b[0;32mfrom\u001b[0m \u001b[0;32mNone\u001b[0m\u001b[0;34m\u001b[0m\u001b[0;34m\u001b[0m\u001b[0m\n\u001b[0m\u001b[1;32m    118\u001b[0m             \u001b[0;32melse\u001b[0m\u001b[0;34m:\u001b[0m\u001b[0;34m\u001b[0m\u001b[0;34m\u001b[0m\u001b[0m\n\u001b[1;32m    119\u001b[0m                 \u001b[0;32mraise\u001b[0m\u001b[0;34m\u001b[0m\u001b[0;34m\u001b[0m\u001b[0m\n",
      "\u001b[0;31mAnalysisException\u001b[0m: cannot resolve 'dept_name' given input columns: [SLA_days, case_closed, case_closed_date, case_due_date, case_id, case_late, case_opened_date, case_status, council_district, dept_division, num_days_late, request_address, service_request_type, source_id];\n'Aggregate ['dept_name], ['dept_name, avg(num_days_late#21) AS days_late#579, count(num_days_late#21) AS n_cases_late#581L]\n+- Filter case_late#111: boolean\n   +- Project [case_id#16, case_opened_date#156, case_closed_date#171, case_due_date#186, case_late#111, num_days_late#21, case_closed#96, dept_division#23, service_request_type#24, SLA_days#25, case_status#26, source_id#27, request_address#28, cast(council_district#126 as string) AS council_district#277]\n      +- Project [case_id#16, case_opened_date#156, case_closed_date#171, to_timestamp('case_due_date, Some(M/d/yy H:mm)) AS case_due_date#186, case_late#111, num_days_late#21, case_closed#96, dept_division#23, service_request_type#24, SLA_days#25, case_status#26, source_id#27, request_address#28, council_district#126]\n         +- Project [case_id#16, case_opened_date#156, to_timestamp('case_opened_date, Some(M/d/yy H:mm)) AS case_closed_date#171, case_due_date#141, case_late#111, num_days_late#21, case_closed#96, dept_division#23, service_request_type#24, SLA_days#25, case_status#26, source_id#27, request_address#28, council_district#126]\n            +- Project [case_id#16, to_timestamp('case_opened_date, Some(M/d/yy H:mm)) AS case_opened_date#156, case_closed_date#18, case_due_date#141, case_late#111, num_days_late#21, case_closed#96, dept_division#23, service_request_type#24, SLA_days#25, case_status#26, source_id#27, request_address#28, council_district#126]\n               +- Project [case_id#16, case_opened_date#17, case_closed_date#18, SLA_due_date#19 AS case_due_date#141, case_late#111, num_days_late#21, case_closed#96, dept_division#23, service_request_type#24, SLA_days#25, case_status#26, source_id#27, request_address#28, council_district#126]\n                  +- Project [case_id#16, case_opened_date#17, case_closed_date#18, SLA_due_date#19, case_late#111, num_days_late#21, case_closed#96, dept_division#23, service_request_type#24, SLA_days#25, case_status#26, source_id#27, request_address#28, cast(council_district#29 as string) AS council_district#126]\n                     +- Project [case_id#16, case_opened_date#17, case_closed_date#18, SLA_due_date#19, (case_late#20 = YES) AS case_late#111, num_days_late#21, case_closed#96, dept_division#23, service_request_type#24, SLA_days#25, case_status#26, source_id#27, request_address#28, council_district#29]\n                        +- Project [case_id#16, case_opened_date#17, case_closed_date#18, SLA_due_date#19, case_late#20, num_days_late#21, (case_closed#22 = YES) AS case_closed#96, dept_division#23, service_request_type#24, SLA_days#25, case_status#26, source_id#27, request_address#28, council_district#29]\n                           +- Relation [case_id#16,case_opened_date#17,case_closed_date#18,SLA_due_date#19,case_late#20,num_days_late#21,case_closed#22,dept_division#23,service_request_type#24,SLA_days#25,case_status#26,source_id#27,request_address#28,council_district#29] csv\n"
     ]
    }
   ],
   "source": [
    "(\n",
    "   case.filter('case_late')\n",
    "    .groupby('dept_name')\n",
    "    .agg(mean('num_days_late').alias('days_late'), count('num_days_late').alias('n_cases_late'))\n",
    "    .sort('days_late')\n",
    "    .withColumn('days_late', round(col('days_late'), 1))\n",
    "    .show(truncate=False)\n",
    ")"
   ]
  },
  {
   "cell_type": "markdown",
   "id": "1155d937",
   "metadata": {},
   "source": [
    "#### 12. How do number of days late depend on department and request type?"
   ]
  }
 ],
 "metadata": {
  "kernelspec": {
   "display_name": "Python 3.8.8 64-bit ('base': conda)",
   "language": "python",
   "name": "python388jvsc74a57bd0b64057e63add2b45b1ffc7eab9b09c8889b419c878e2fdf0d08f837f0fc857a7"
  },
  "language_info": {
   "codemirror_mode": {
    "name": "ipython",
    "version": 3
   },
   "file_extension": ".py",
   "mimetype": "text/x-python",
   "name": "python",
   "nbconvert_exporter": "python",
   "pygments_lexer": "ipython3",
   "version": "3.8.8"
  }
 },
 "nbformat": 4,
 "nbformat_minor": 5
}
