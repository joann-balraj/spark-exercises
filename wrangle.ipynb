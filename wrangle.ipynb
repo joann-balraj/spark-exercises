{
 "cells": [
  {
   "cell_type": "markdown",
   "id": "6e668ea6",
   "metadata": {},
   "source": [
    "# Wrangle Exercises\n",
    "___\n",
    "### Data Acquisition\n",
    "\n",
    "These exercises should go in a notebook or script named wrangle. Add, commit, and push your changes.\n",
    "\n",
    "This exercises uses the `case.csv`, `dept.csv`, and `source.csv` files from the san antonio 311 call dataset.\n",
    "\n",
    "#### 1. Read the case, department, and source data into their own spark dataframes.\n",
    "\n",
    "#### 2. Let's see how writing to the local disk works in spark:\n",
    "   - Write the code necessary to store the source data in both csv and json format, store these as `sources_csv` and `sources_json`\n",
    "   - Inspect your folder structure. What do you notice?\n",
    "   \n",
    "#### 3. Inspect the data in your dataframes. Are the data types appropriate? Write the code necessary to cast the values to the appropriate types."
   ]
  },
  {
   "cell_type": "code",
   "execution_count": 1,
   "id": "79e54e98",
   "metadata": {},
   "outputs": [],
   "source": [
    "from pyspark.sql import SparkSession\n",
    "from pyspark.sql.functions import *\n",
    "\n",
    "spark = SparkSession.builder.getOrCreate()"
   ]
  },
  {
   "cell_type": "markdown",
   "id": "018497ec",
   "metadata": {},
   "source": [
    "Read the case, department, and source data into their own spark dataframes."
   ]
  },
  {
   "cell_type": "code",
   "execution_count": 2,
   "id": "3dbeae2b",
   "metadata": {},
   "outputs": [],
   "source": [
    "case = spark.read.csv(\"case.csv\", sep=\",\", header=True, inferSchema=True)\n",
    "dept = spark.read.csv(\"dept.csv\", sep=\",\", header=True, inferSchema=True)\n",
    "source = spark.read.csv(\"source.csv\", sep=\",\", header=True, inferSchema=True)"
   ]
  },
  {
   "cell_type": "markdown",
   "id": "870b16cd",
   "metadata": {},
   "source": [
    "Write the code necessary to store the source data in both `csv` and `json` format, store these as `sources_csv` and `sources_json`"
   ]
  },
  {
   "cell_type": "code",
   "execution_count": 3,
   "id": "32a868f9",
   "metadata": {},
   "outputs": [],
   "source": [
    "source.write.json(\"data/source_json\", mode=\"overwrite\")\n",
    "source.write.csv(\"data/source_csv\", mode=\"overwrite\")"
   ]
  },
  {
   "cell_type": "markdown",
   "id": "8f3a15bc",
   "metadata": {},
   "source": [
    "Inspect your folder structure. What do you notice?\n",
    "- It generated a directory (`data`) with the 2 formats (`csv` & `json`) in 2 seperate folders."
   ]
  },
  {
   "cell_type": "markdown",
   "id": "91b2cddc",
   "metadata": {},
   "source": [
    "Inspect the data in your dataframes. Are the data types appropriate? Write the code necessary to cast the values to the appropriate types."
   ]
  },
  {
   "cell_type": "code",
   "execution_count": 4,
   "id": "156e4e01",
   "metadata": {},
   "outputs": [
    {
     "data": {
      "text/plain": [
       "[('case_id', 'int'),\n",
       " ('case_opened_date', 'string'),\n",
       " ('case_closed_date', 'string'),\n",
       " ('SLA_due_date', 'string'),\n",
       " ('case_late', 'string'),\n",
       " ('num_days_late', 'double'),\n",
       " ('case_closed', 'string'),\n",
       " ('dept_division', 'string'),\n",
       " ('service_request_type', 'string'),\n",
       " ('SLA_days', 'double'),\n",
       " ('case_status', 'string'),\n",
       " ('source_id', 'string'),\n",
       " ('request_address', 'string'),\n",
       " ('council_district', 'int')]"
      ]
     },
     "execution_count": 4,
     "metadata": {},
     "output_type": "execute_result"
    }
   ],
   "source": [
    "case.dtypes"
   ]
  },
  {
   "cell_type": "markdown",
   "id": "044ac3d0",
   "metadata": {},
   "source": [
    "I am going to be using the sollutions from the wrangle lesson to correct the dtypes (Also in Codeup DS Curriculum)."
   ]
  },
  {
   "cell_type": "code",
   "execution_count": 5,
   "id": "431c5dcb",
   "metadata": {},
   "outputs": [],
   "source": [
    "# use .withColumn to change columns from string to boolean values\n",
    "case = case.withColumn(\"case_closed\", expr('case_closed == \"YES\"')).withColumn(\n",
    "    \"case_late\", expr('case_late == \"YES\"')\n",
    ")"
   ]
  },
  {
   "cell_type": "code",
   "execution_count": 6,
   "id": "e3668455",
   "metadata": {},
   "outputs": [],
   "source": [
    "# council_district as a string instead of int\n",
    "\n",
    "case = case.withColumn(\"council_district\", col(\"council_district\").cast(\"string\"))"
   ]
  },
  {
   "cell_type": "code",
   "execution_count": 7,
   "id": "0b115364",
   "metadata": {},
   "outputs": [],
   "source": [
    "# to_timestamp, fmt\n",
    "\n",
    "fmt = \"M/d/yy H:mm\"\n",
    "\n",
    "case = case.withColumnRenamed('SLA_due_date', 'case_due_date')\n",
    "\n",
    "case = case.withColumn('case_opened_date', to_timestamp('case_opened_date', fmt))\\\n",
    ".withColumn('case_closed_date', to_timestamp('case_opened_date', fmt))\\\n",
    ".withColumn('case_due_date', to_timestamp('case_due_date', fmt))"
   ]
  },
  {
   "cell_type": "code",
   "execution_count": 8,
   "id": "4d4d701f",
   "metadata": {},
   "outputs": [
    {
     "data": {
      "text/plain": [
       "[('case_id', 'int'),\n",
       " ('case_opened_date', 'timestamp'),\n",
       " ('case_closed_date', 'timestamp'),\n",
       " ('case_due_date', 'timestamp'),\n",
       " ('case_late', 'boolean'),\n",
       " ('num_days_late', 'double'),\n",
       " ('case_closed', 'boolean'),\n",
       " ('dept_division', 'string'),\n",
       " ('service_request_type', 'string'),\n",
       " ('SLA_days', 'double'),\n",
       " ('case_status', 'string'),\n",
       " ('source_id', 'string'),\n",
       " ('request_address', 'string'),\n",
       " ('council_district', 'string')]"
      ]
     },
     "execution_count": 8,
     "metadata": {},
     "output_type": "execute_result"
    }
   ],
   "source": [
    "case.dtypes"
   ]
  },
  {
   "cell_type": "markdown",
   "id": "a9112049",
   "metadata": {},
   "source": [
    "`case` is looks good in terms of dtypes now."
   ]
  },
  {
   "cell_type": "code",
   "execution_count": 9,
   "id": "af4a9eac",
   "metadata": {},
   "outputs": [
    {
     "data": {
      "text/plain": [
       "[('dept_division', 'string'),\n",
       " ('dept_name', 'string'),\n",
       " ('standardized_dept_name', 'string'),\n",
       " ('dept_subject_to_SLA', 'string')]"
      ]
     },
     "execution_count": 9,
     "metadata": {},
     "output_type": "execute_result"
    }
   ],
   "source": [
    "dept.dtypes"
   ]
  },
  {
   "cell_type": "code",
   "execution_count": 10,
   "id": "33b83398",
   "metadata": {},
   "outputs": [
    {
     "name": "stdout",
     "output_type": "stream",
     "text": [
      "+---------------+----------------+----------------------+-------------------+\n",
      "|  dept_division|       dept_name|standardized_dept_name|dept_subject_to_SLA|\n",
      "+---------------+----------------+----------------------+-------------------+\n",
      "|311 Call Center|Customer Service|      Customer Service|               true|\n",
      "+---------------+----------------+----------------------+-------------------+\n",
      "only showing top 1 row\n",
      "\n"
     ]
    }
   ],
   "source": [
    "# use .withColumn to change columns from string to boolean values\n",
    "dept = dept.withColumn(\"dept_subject_to_SLA\", expr('dept_subject_to_SLA == \"YES\"'))\n",
    "dept.show(1)"
   ]
  },
  {
   "cell_type": "code",
   "execution_count": 11,
   "id": "81b89be8",
   "metadata": {},
   "outputs": [
    {
     "data": {
      "text/plain": [
       "[('dept_division', 'string'),\n",
       " ('dept_name', 'string'),\n",
       " ('standardized_dept_name', 'string'),\n",
       " ('dept_subject_to_SLA', 'boolean')]"
      ]
     },
     "execution_count": 11,
     "metadata": {},
     "output_type": "execute_result"
    }
   ],
   "source": [
    "dept.dtypes"
   ]
  },
  {
   "cell_type": "markdown",
   "id": "ce83d96e",
   "metadata": {},
   "source": [
    "`dept` dtypes look good now."
   ]
  },
  {
   "cell_type": "code",
   "execution_count": 12,
   "id": "41444bb6",
   "metadata": {},
   "outputs": [
    {
     "data": {
      "text/plain": [
       "[('source_id', 'string'), ('source_username', 'string')]"
      ]
     },
     "execution_count": 12,
     "metadata": {},
     "output_type": "execute_result"
    }
   ],
   "source": [
    "source.dtypes"
   ]
  },
  {
   "cell_type": "markdown",
   "id": "dd50df74",
   "metadata": {},
   "source": [
    "I am leaving `source` as it is, because half of the id's contain letters.\n",
    "___"
   ]
  },
  {
   "cell_type": "markdown",
   "id": "f1834239",
   "metadata": {},
   "source": [
    "#### 1. How old is the latest (in terms of days past SLA) currently open issue? How long has the oldest (in terms of days since opened) currently opened issue been open?\n",
    "- **A:** 1,854 Days"
   ]
  },
  {
   "cell_type": "code",
   "execution_count": 13,
   "id": "a7f1780b",
   "metadata": {},
   "outputs": [
    {
     "name": "stdout",
     "output_type": "stream",
     "text": [
      "+-------------+\n",
      "|days_past_due|\n",
      "+-------------+\n",
      "|         1854|\n",
      "|         1854|\n",
      "|         1854|\n",
      "|         1853|\n",
      "|         1851|\n",
      "+-------------+\n",
      "only showing top 5 rows\n",
      "\n"
     ]
    }
   ],
   "source": [
    "(\n",
    "   case.select(datediff(current_timestamp(), 'case_due_date')\n",
    "    .alias('days_past_due'))\n",
    "    .where(case.case_closed == False)\n",
    "    .sort(col('days_past_due').desc())\n",
    "    .show(5)\n",
    "    \n",
    ")"
   ]
  },
  {
   "cell_type": "markdown",
   "id": "6adf7258",
   "metadata": {},
   "source": [
    "#### 2. How many Stray Animal cases are there?\n",
    "- **A:** 26,760 Stray Animal Cases"
   ]
  },
  {
   "cell_type": "code",
   "execution_count": 14,
   "id": "5f9902c2",
   "metadata": {},
   "outputs": [
    {
     "data": {
      "text/plain": [
       "26760"
      ]
     },
     "execution_count": 14,
     "metadata": {},
     "output_type": "execute_result"
    }
   ],
   "source": [
    "case.filter(case.service_request_type == 'Stray Animal').count()"
   ]
  },
  {
   "cell_type": "markdown",
   "id": "6a64c7ed",
   "metadata": {},
   "source": [
    "#### 3. How many service requests that are assigned to the Field Operations department (`dept_division`) are not classified as \n",
    "#### \"Officer Standby\" request type (`service_request_type`)?\n",
    "- **A:** 113,902 Service Requests"
   ]
  },
  {
   "cell_type": "code",
   "execution_count": 15,
   "id": "3e7dad48",
   "metadata": {},
   "outputs": [
    {
     "data": {
      "text/plain": [
       "113902"
      ]
     },
     "execution_count": 15,
     "metadata": {},
     "output_type": "execute_result"
    }
   ],
   "source": [
    "(\n",
    "    case.filter(case.dept_division == 'Field Operations')\n",
    "    .filter(case.service_request_type != 'Officer Standby')\n",
    "    .count()\n",
    ")"
   ]
  },
  {
   "cell_type": "markdown",
   "id": "47caa46f",
   "metadata": {},
   "source": [
    "#### 4. Convert the `council_district` column to a string column.\n",
    "Was already done above, but here is the code:"
   ]
  },
  {
   "cell_type": "code",
   "execution_count": 16,
   "id": "8abbf3f5",
   "metadata": {},
   "outputs": [],
   "source": [
    "case = case.withColumn(\"council_district\", col(\"council_district\").cast(\"string\"))"
   ]
  },
  {
   "cell_type": "markdown",
   "id": "d66824fa",
   "metadata": {},
   "source": [
    "#### 5. Extract the year from the `case_closed_date column`."
   ]
  },
  {
   "cell_type": "code",
   "execution_count": 17,
   "id": "d9d7973c",
   "metadata": {},
   "outputs": [
    {
     "name": "stdout",
     "output_type": "stream",
     "text": [
      "+-------------------+----------------------+\n",
      "|   case_closed_date|year(case_closed_date)|\n",
      "+-------------------+----------------------+\n",
      "|2018-01-01 00:42:00|                  2018|\n",
      "|2018-01-01 00:46:00|                  2018|\n",
      "|2018-01-01 00:48:00|                  2018|\n",
      "|2018-01-01 01:29:00|                  2018|\n",
      "|2018-01-01 01:34:00|                  2018|\n",
      "+-------------------+----------------------+\n",
      "only showing top 5 rows\n",
      "\n"
     ]
    }
   ],
   "source": [
    "case.select('case_closed_date', year('case_closed_date')).show(5)"
   ]
  },
  {
   "cell_type": "markdown",
   "id": "079c3ff5",
   "metadata": {},
   "source": [
    "#### 6. Convert `num_days_late` from days to hours in new columns `num_hours_late`."
   ]
  },
  {
   "cell_type": "code",
   "execution_count": 18,
   "id": "c2c1073e",
   "metadata": {},
   "outputs": [
    {
     "name": "stdout",
     "output_type": "stream",
     "text": [
      "+-------------------+-------------------+\n",
      "|      num_days_late|     num_hours_late|\n",
      "+-------------------+-------------------+\n",
      "| -998.5087616000001|     -23964.2102784|\n",
      "|-2.0126041669999997|-48.302500007999996|\n",
      "|       -3.022337963|      -72.536111112|\n",
      "|       -15.01148148|      -360.27555552|\n",
      "|0.37216435200000003|  8.931944448000001|\n",
      "|       -29.74398148| -713.8555555199999|\n",
      "|       -14.70673611|      -352.96166664|\n",
      "|       -14.70662037|      -352.95888888|\n",
      "|       -14.70662037|      -352.95888888|\n",
      "|       -14.70649306|      -352.95583344|\n",
      "+-------------------+-------------------+\n",
      "only showing top 10 rows\n",
      "\n"
     ]
    }
   ],
   "source": [
    "(\n",
    "    case.withColumn('num_hours_late', case.num_days_late * 24)\n",
    "    .select('num_days_late', 'num_hours_late')\n",
    "    .show(10)\n",
    ")"
   ]
  },
  {
   "cell_type": "markdown",
   "id": "7c1103bf",
   "metadata": {},
   "source": [
    "#### 7. Join the case data with the source and department data."
   ]
  },
  {
   "cell_type": "code",
   "execution_count": 25,
   "id": "1974dde9",
   "metadata": {},
   "outputs": [
    {
     "name": "stdout",
     "output_type": "stream",
     "text": [
      "-RECORD 0------------------------------------------------------\n",
      " source_id              | svcCRMLS                             \n",
      " dept_division          | Field Operations                     \n",
      " case_id                | 1014127332                           \n",
      " case_opened_date       | 2018-01-01 00:42:00                  \n",
      " case_closed_date       | 2018-01-01 00:42:00                  \n",
      " case_due_date          | 2020-09-26 00:42:00                  \n",
      " case_late              | false                                \n",
      " num_days_late          | -998.5087616000001                   \n",
      " case_closed            | true                                 \n",
      " service_request_type   | Stray Animal                         \n",
      " SLA_days               | 999.0                                \n",
      " case_status            | Closed                               \n",
      " request_address        | 2315  EL PASO ST, San Antonio, 78207 \n",
      " council_district       | 5                                    \n",
      " dept_name              | Animal Care Services                 \n",
      " standardized_dept_name | Animal Care Services                 \n",
      " dept_subject_to_SLA    | true                                 \n",
      " source_username        | svcCRMLS                             \n",
      "only showing top 1 row\n",
      "\n"
     ]
    }
   ],
   "source": [
    "case = case.join(dept, 'dept_division', 'left').join(source, 'source_id', 'left')\n",
    "case.show(1, vertical=True, truncate=False)"
   ]
  },
  {
   "cell_type": "markdown",
   "id": "2d184af8",
   "metadata": {},
   "source": [
    "#### 8. Are there any cases that do not have a request source?"
   ]
  },
  {
   "cell_type": "code",
   "execution_count": 26,
   "id": "925969f2",
   "metadata": {},
   "outputs": [
    {
     "data": {
      "text/plain": [
       "0"
      ]
     },
     "execution_count": 26,
     "metadata": {},
     "output_type": "execute_result"
    }
   ],
   "source": [
    "case.filter('source_id is null').count()"
   ]
  },
  {
   "cell_type": "markdown",
   "id": "127f4015",
   "metadata": {},
   "source": [
    "#### 9. What are the top 10 service request types in terms of number of requests?"
   ]
  },
  {
   "cell_type": "code",
   "execution_count": 27,
   "id": "49e70ae7",
   "metadata": {},
   "outputs": [
    {
     "name": "stdout",
     "output_type": "stream",
     "text": [
      "+--------------------------------+-----+\n",
      "|service_request_type            |count|\n",
      "+--------------------------------+-----+\n",
      "|No Pickup                       |89210|\n",
      "|Overgrown Yard/Trash            |66403|\n",
      "|Bandit Signs                    |32968|\n",
      "|Damaged Cart                    |31163|\n",
      "|Front Or Side Yard Parking      |28920|\n",
      "|Stray Animal                    |27361|\n",
      "|Aggressive Animal(Non-Critical) |25492|\n",
      "|Cart Exchange Request           |22608|\n",
      "|Junk Vehicle On Private Property|21649|\n",
      "|Pot Hole Repair                 |20827|\n",
      "+--------------------------------+-----+\n",
      "only showing top 10 rows\n",
      "\n"
     ]
    }
   ],
   "source": [
    "(\n",
    "    case.groupby('service_request_type')\n",
    "    .count()\n",
    "    .sort(col('count').desc())\n",
    "    .show(10, truncate=False)\n",
    ")"
   ]
  },
  {
   "cell_type": "markdown",
   "id": "604a7aef",
   "metadata": {},
   "source": [
    "#### 10. What are the top 10 service request types in terms of average days late?"
   ]
  },
  {
   "cell_type": "code",
   "execution_count": 28,
   "id": "a8d85a54",
   "metadata": {},
   "outputs": [
    {
     "name": "stdout",
     "output_type": "stream",
     "text": [
      "+--------------------------------------+------------------+-------+\n",
      "|service_request_type                  |n_days_late       |n_cases|\n",
      "+--------------------------------------+------------------+-------+\n",
      "|Zoning: Recycle Yard                  |210.89201994318182|132    |\n",
      "|Zoning: Junk Yards                    |200.20517608494276|262    |\n",
      "|Structure/Housing Maintenance         |190.20707698509807|51     |\n",
      "|Donation Container Enforcement        |171.09115313942615|122    |\n",
      "|Storage of Used Mattress              |163.96812829714287|7      |\n",
      "|Labeling for Used Mattress            |162.43032902285717|7      |\n",
      "|Record Keeping of Used Mattresses     |153.99724039428568|7      |\n",
      "|Signage Requied for Sale of Used Mattr|151.63868055333333|12     |\n",
      "|Traffic Signal Graffiti               |137.64583330000002|4      |\n",
      "|License Requied Used Mattress Sales   |128.79828704142858|7      |\n",
      "+--------------------------------------+------------------+-------+\n",
      "only showing top 10 rows\n",
      "\n"
     ]
    }
   ],
   "source": [
    "(\n",
    "    case.where('case_late') \n",
    "    .groupBy('service_request_type')\n",
    "    .agg(mean('num_days_late').alias('n_days_late'), count('*').alias('n_cases'))\n",
    "    .sort(desc('n_days_late'))\n",
    "    .show(10, truncate=False)\n",
    ")"
   ]
  },
  {
   "cell_type": "markdown",
   "id": "ad28d087",
   "metadata": {},
   "source": [
    "#### 11. Does number of days late depend on department?"
   ]
  },
  {
   "cell_type": "code",
   "execution_count": 30,
   "id": "6fc19c08",
   "metadata": {},
   "outputs": [
    {
     "name": "stdout",
     "output_type": "stream",
     "text": [
      "+-------------------------+---------+------------+\n",
      "|dept_name                |days_late|n_cases_late|\n",
      "+-------------------------+---------+------------+\n",
      "|Metro Health             |6.5      |854         |\n",
      "|Solid Waste Management   |7.1      |33729       |\n",
      "|Trans & Cap Improvements |10.7     |5529        |\n",
      "|Parks and Recreation     |22.4     |3810        |\n",
      "|Animal Care Services     |23.4     |23751       |\n",
      "|Code Enforcement Services|48.1     |25467       |\n",
      "|Development Services     |67.2     |840         |\n",
      "|Customer Service         |88.2     |2035        |\n",
      "|null                     |210.9    |132         |\n",
      "+-------------------------+---------+------------+\n",
      "\n"
     ]
    }
   ],
   "source": [
    "(\n",
    "   case.filter('case_late')\n",
    "    .groupby('dept_name')\n",
    "    .agg(mean('num_days_late').alias('days_late'), count('num_days_late').alias('n_cases_late'))\n",
    "    .sort('days_late')\n",
    "    .withColumn('days_late', round(col('days_late'), 1))\n",
    "    .show(truncate=False)\n",
    ")"
   ]
  },
  {
   "cell_type": "markdown",
   "id": "c4a1ffe3",
   "metadata": {},
   "source": [
    "#### 12. How do number of days late depend on department and request type?"
   ]
  },
  {
   "cell_type": "code",
   "execution_count": 31,
   "id": "4b1020ff",
   "metadata": {},
   "outputs": [
    {
     "name": "stdout",
     "output_type": "stream",
     "text": [
      "+-------------------------+------------------------------------+---------+------------+\n",
      "|dept_name                |service_request_type                |days_late|n_cases_late|\n",
      "+-------------------------+------------------------------------+---------+------------+\n",
      "|Trans & Cap Improvements |Herbicide - Grass in curb or street |0.1      |1           |\n",
      "|Animal Care Services     |Injured Animal(Critical)            |0.1      |579         |\n",
      "|Animal Care Services     |Officer Standby                     |0.1      |98          |\n",
      "|Trans & Cap Improvements |Tree Fallen                         |0.1      |8           |\n",
      "|Solid Waste Management   |Lost / Stolen Organics Cart         |0.2      |2           |\n",
      "|Solid Waste Management   |Brush No Notice                     |0.2      |2           |\n",
      "|Animal Care Services     |Animal Cruelty(Critical)            |0.2      |389         |\n",
      "|Solid Waste Management   |Additional Organics Cart Request    |0.2      |3           |\n",
      "|Animal Care Services     |Animal Bite(Critical)               |0.2      |217         |\n",
      "|Code Enforcement Services|Graffiti: Traffic Signal Pole       |0.2      |3           |\n",
      "|Trans & Cap Improvements |Street Debris                       |0.3      |10          |\n",
      "|Trans & Cap Improvements |Road Curvature/Visual Obstruction   |0.3      |4           |\n",
      "|Solid Waste Management   |Cart removed from Service           |0.3      |5           |\n",
      "|Trans & Cap Improvements |Tree- Visual Obstruction            |0.4      |10          |\n",
      "|Trans & Cap Improvements |Barricade                           |0.4      |8           |\n",
      "|Trans & Cap Improvements |Vegetation- Visual Obstruction      |0.5      |12          |\n",
      "|Trans & Cap Improvements |Street Sweeping- Emergency          |0.5      |27          |\n",
      "|Trans & Cap Improvements |Drainage Channel - Emergency        |0.5      |15          |\n",
      "|Trans & Cap Improvements |Visual Obstruction Vegetation Signal|0.6      |4           |\n",
      "|Trans & Cap Improvements |Misc Sign - New Request             |0.6      |21          |\n",
      "+-------------------------+------------------------------------+---------+------------+\n",
      "only showing top 20 rows\n",
      "\n"
     ]
    }
   ],
   "source": [
    "(\n",
    "   case.filter('case_late')\n",
    "    .groupby('dept_name', 'service_request_type')\n",
    "    .agg(mean('num_days_late').alias('days_late'), count('num_days_late').alias('n_cases_late'))\n",
    "    .sort('days_late')\n",
    "    .withColumn('days_late', round(col('days_late'), 1))\n",
    "    .show(truncate=False)\n",
    ")"
   ]
  }
 ],
 "metadata": {
  "kernelspec": {
   "display_name": "Python 3.8.8 64-bit ('base': conda)",
   "language": "python",
   "name": "python388jvsc74a57bd0b64057e63add2b45b1ffc7eab9b09c8889b419c878e2fdf0d08f837f0fc857a7"
  },
  "language_info": {
   "codemirror_mode": {
    "name": "ipython",
    "version": 3
   },
   "file_extension": ".py",
   "mimetype": "text/x-python",
   "name": "python",
   "nbconvert_exporter": "python",
   "pygments_lexer": "ipython3",
   "version": "3.8.8"
  }
 },
 "nbformat": 4,
 "nbformat_minor": 5
}
